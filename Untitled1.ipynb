{
 "cells": [
  {
   "cell_type": "code",
   "execution_count": 5,
   "metadata": {},
   "outputs": [
    {
     "name": "stdout",
     "output_type": "stream",
     "text": [
      "Defaulting to user installation because normal site-packages is not writeable\n",
      "Collecting wptools\n",
      "  Using cached wptools-0.4.17-py2.py3-none-any.whl (38 kB)\n",
      "Requirement already satisfied: pycurl in /Users/macbookpro/opt/anaconda3/lib/python3.8/site-packages (from wptools) (7.43.0.6)\n",
      "Requirement already satisfied: certifi in /Users/macbookpro/opt/anaconda3/lib/python3.8/site-packages (from wptools) (2020.6.20)\n",
      "Requirement already satisfied: lxml in /Users/macbookpro/opt/anaconda3/lib/python3.8/site-packages (from wptools) (4.6.1)\n",
      "Collecting html2text\n",
      "  Using cached html2text-2020.1.16-py3-none-any.whl (32 kB)\n",
      "Installing collected packages: html2text, wptools\n",
      "\u001b[33m  WARNING: The script html2text is installed in '/Users/garande/.local/bin' which is not on PATH.\n",
      "  Consider adding this directory to PATH or, if you prefer to suppress this warning, use --no-warn-script-location.\u001b[0m\n",
      "\u001b[33m  WARNING: The script wptool is installed in '/Users/garande/.local/bin' which is not on PATH.\n",
      "  Consider adding this directory to PATH or, if you prefer to suppress this warning, use --no-warn-script-location.\u001b[0m\n",
      "Successfully installed html2text-2020.1.16 wptools-0.4.17\n",
      "Note: you may need to restart the kernel to use updated packages.\n"
     ]
    }
   ],
   "source": [
    "# Installing wptools\n",
    "%pip install wptools"
   ]
  },
  {
   "cell_type": "code",
   "execution_count": 6,
   "metadata": {},
   "outputs": [],
   "source": [
    "import wptools"
   ]
  },
  {
   "cell_type": "code",
   "execution_count": 12,
   "metadata": {
    "scrolled": true
   },
   "outputs": [
    {
     "name": "stderr",
     "output_type": "stream",
     "text": [
      "en.wikipedia.org (query) E.T._the_Extra-Terrestrial\n",
      "en.wikipedia.org (query) E.T. the Extra-Terrestrial (&plcontinue=...\n",
      "en.wikipedia.org (parse) 73441\n",
      "www.wikidata.org (wikidata) Q11621\n",
      "www.wikidata.org (labels) Q131285|P18|P1874|P268|Q1720784|P3077|Q...\n",
      "www.wikidata.org (labels) Q28732982|P5357|Q8555|Q3414212|P5099|P3...\n",
      "www.wikidata.org (labels) P1431|Q11024|Q104144947|P5970|P269|Q102...\n",
      "www.wikidata.org (labels) P577|Q24909800|Q787145|P1040|P750|Q1860...\n",
      "www.wikidata.org (labels) Q443775|Q981030|P437|P2758|P3593|P244|P...\n",
      "en.wikipedia.org (restbase) /page/summary/E.T._the_Extra-Terrestrial\n",
      "en.wikipedia.org (imageinfo) File:E t the extra terrestrial ver3....\n",
      "E.T. the Extra-Terrestrial (en) data\n",
      "{\n",
      "  WARNINGS: <dict(1)> extracts\n",
      "  aliases: <list(2)> E.T., ET\n",
      "  assessments: <dict(4)> United States, Film, Science Fiction, Lib...\n",
      "  claims: <dict(129)> P1562, P57, P272, P345, P31, P161, P373, P48...\n",
      "  description: 1982 American science fiction film\n",
      "  exhtml: <str(461)> <p><i><b>E.T. the Extra-Terrestrial</b></i> i...\n",
      "  exrest: <str(440)> E.T. the Extra-Terrestrial is a 1982 American...\n",
      "  extext: <str(2247)> _**E.T. the Extra-Terrestrial**_ (or simply ...\n",
      "  extract: <str(2373)> <p class=\"mw-empty-elt\"></p><p><i><b>E.T. t...\n",
      "  image: <list(4)> {'kind': 'parse-image', 'file': 'File:E t the e...\n",
      "  infobox: <dict(19)> name, image, alt, caption, director, produce...\n",
      "  iwlinks: <list(6)> https://commons.wikimedia.org/wiki/Category:E...\n",
      "  label: E.T. the Extra-Terrestrial\n",
      "  labels: <dict(249)> Q131285, P18, P1874, P268, Q1720784, P3077, ...\n",
      "  length: 127,563\n",
      "  links: <list(769)> 10th Saturn Awards, 12 Angry Men (1957 film),...\n",
      "  modified: <dict(2)> page, wikidata\n",
      "  pageid: 73441\n",
      "  parsetree: <str(156923)> <root><template><title>short descriptio...\n",
      "  random: Rangwe Constituency\n",
      "  redirects: <list(37)> {'pageid': 177061, 'ns': 0, 'title': 'E.T....\n",
      "  requests: <list(11)> query, query, parse, wikidata, labels, labe...\n",
      "  title: E.T._the_Extra-Terrestrial\n",
      "  url: https://en.wikipedia.org/wiki/E.T._the_Extra-Terrestrial\n",
      "  url_raw: <str(67)> https://en.wikipedia.org/wiki/E.T._the_Extra-...\n",
      "  watchers: 367\n",
      "  what: film\n",
      "  wikibase: Q11621\n",
      "  wikidata: <dict(129)> AllMovie title ID (P1562), director (P57),...\n",
      "  wikidata_pageid: 13150\n",
      "  wikidata_url: https://www.wikidata.org/wiki/Q11621\n",
      "  wikitext: <str(126723)> {{short description|1982 American scienc...\n",
      "}\n"
     ]
    }
   ],
   "source": [
    "page = wptools.page('E.T._the_Extra-Terrestrial').get()"
   ]
  },
  {
   "cell_type": "code",
   "execution_count": 20,
   "metadata": {},
   "outputs": [
    {
     "data": {
      "text/plain": [
       "'[[Steven Spielberg]]'"
      ]
     },
     "execution_count": 20,
     "metadata": {},
     "output_type": "execute_result"
    }
   ],
   "source": [
    "page.data['infobox']['director']"
   ]
  },
  {
   "cell_type": "code",
   "execution_count": null,
   "metadata": {},
   "outputs": [],
   "source": []
  }
 ],
 "metadata": {
  "kernelspec": {
   "display_name": "Python 3",
   "language": "python",
   "name": "python3"
  },
  "language_info": {
   "codemirror_mode": {
    "name": "ipython",
    "version": 3
   },
   "file_extension": ".py",
   "mimetype": "text/x-python",
   "name": "python",
   "nbconvert_exporter": "python",
   "pygments_lexer": "ipython3",
   "version": "3.8.5"
  }
 },
 "nbformat": 4,
 "nbformat_minor": 4
}
