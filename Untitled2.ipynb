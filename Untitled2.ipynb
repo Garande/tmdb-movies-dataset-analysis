{
 "cells": [
  {
   "cell_type": "code",
   "execution_count": null,
   "metadata": {},
   "outputs": [],
   "source": [
    "enhanced_twitter_archive_url = 'https://video.udacity-data.com/topher/2018/November/5bf60c1e_twitter-archive-enhanced-2/twitter-archive-enhanced-2.csv'\n",
    "image_predictions_url = 'https://video.udacity-data.com/topher/2018/November/5bf60c69_image-predictions-3/image-predictions-3.tsv'\n",
    "tweet_json_url = 'https://video.udacity-data.com/topher/2018/November/5bf60cc8_tweet-json/tweet-json'\n",
    "tweet_json_zip_url = 'https://video.udacity-data.com/topher/2018/November/5bf60d25_tweet-json/tweet-json.zip'"
   ]
  }
 ],
 "metadata": {
  "kernelspec": {
   "display_name": "Python 3",
   "language": "python",
   "name": "python3"
  },
  "language_info": {
   "codemirror_mode": {
    "name": "ipython",
    "version": 3
   },
   "file_extension": ".py",
   "mimetype": "text/x-python",
   "name": "python",
   "nbconvert_exporter": "python",
   "pygments_lexer": "ipython3",
   "version": "3.8.5"
  }
 },
 "nbformat": 4,
 "nbformat_minor": 4
}
